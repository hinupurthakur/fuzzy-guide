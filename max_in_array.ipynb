{
 "cells": [
  {
   "cell_type": "code",
   "execution_count": 7,
   "metadata": {},
   "outputs": [
    {
     "name": "stdout",
     "output_type": "stream",
     "text": [
      "Enter size5\n",
      "Enter elements\n",
      "53\n",
      "42\n",
      "13\n",
      "35\n",
      "00\n",
      "53\n"
     ]
    }
   ],
   "source": [
    "def max_in_array(arr):\n",
    "    amax=arr[0]\n",
    "    for i in range(len(arr)):\n",
    "        if arr[i] > amax :\n",
    "            amax=arr[i]\n",
    "    return amax\n",
    "arr=[]\n",
    "n = int(input(\"Enter size\"))\n",
    "print(\"Enter elements\")\n",
    "for i in range(n) :\n",
    "    ele = int(input())\n",
    "    arr.append(ele)\n",
    "print(max_in_array(arr))\n",
    "        "
   ]
  }
 ],
 "metadata": {
  "kernelspec": {
   "display_name": "Python 3",
   "language": "python",
   "name": "python3"
  },
  "language_info": {
   "codemirror_mode": {
    "name": "ipython",
    "version": 3
   },
   "file_extension": ".py",
   "mimetype": "text/x-python",
   "name": "python",
   "nbconvert_exporter": "python",
   "pygments_lexer": "ipython3",
   "version": "3.6.8"
  }
 },
 "nbformat": 4,
 "nbformat_minor": 2
}
