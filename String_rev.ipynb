{
 "cells": [
  {
   "cell_type": "code",
   "execution_count": 2,
   "metadata": {},
   "outputs": [
    {
     "name": "stdout",
     "output_type": "stream",
     "text": [
      "Nupur\n"
     ]
    }
   ],
   "source": [
    "print(\"Nupur\")"
   ]
  },
  {
   "cell_type": "code",
   "execution_count": 12,
   "metadata": {},
   "outputs": [
    {
     "name": "stdout",
     "output_type": "stream",
     "text": [
      "rupuN\n"
     ]
    }
   ],
   "source": [
    "def rev(s):\n",
    "    if len(s) ==0 :\n",
    "        return s\n",
    "    else :\n",
    "        return rev(s[1:]) + s[0]\n",
    "s=\"Nupur\"\n",
    "print(rev(s))\n",
    "        "
   ]
  },
  {
   "cell_type": "code",
   "execution_count": 13,
   "metadata": {},
   "outputs": [
    {
     "name": "stdout",
     "output_type": "stream",
     "text": [
      "rupuN\n"
     ]
    }
   ],
   "source": [
    "def reverse(s): \n",
    "  str = \"\" \n",
    "  for i in s: \n",
    "    str = i + str\n",
    "  return str\n",
    "print(reverse(\"Nupur\"))"
   ]
  },
  {
   "cell_type": "code",
   "execution_count": 2,
   "metadata": {},
   "outputs": [
    {
     "name": "stdout",
     "output_type": "stream",
     "text": [
      "rupuN\n"
     ]
    }
   ],
   "source": [
    "str=\"Nupur\"\n",
    "str=str[::-1]\n",
    "print(str)"
   ]
  },
  {
   "cell_type": "code",
   "execution_count": 10,
   "metadata": {},
   "outputs": [
    {
     "name": "stdout",
     "output_type": "stream",
     "text": [
      "rupuN\n"
     ]
    }
   ],
   "source": [
    "print(\"\".join(reversed(\"Nupur\")))"
   ]
  },
  {
   "cell_type": "code",
   "execution_count": 2,
   "metadata": {},
   "outputs": [
    {
     "name": "stdout",
     "output_type": "stream",
     "text": [
      "Enter the size3\n",
      "9\n",
      "9\n",
      "8\n",
      "[9, 9, 8]\n",
      "[9, 9, 9]\n"
     ]
    }
   ],
   "source": [
    "def count(input1,input2):\n",
    "    carry=1\n",
    "    for i in reversed(range(input1)):\n",
    "        sum1=input2[i]+carry\n",
    "        if sum1 == 10 :\n",
    "            carry=1\n",
    "        else :\n",
    "            carry=0\n",
    "        input2[i]=sum1%10\n",
    "    if carry == 1 :\n",
    "        return 0\n",
    "    return input2\n",
    "input2=[]\n",
    "input1=int(input(\"Enter the size\"))\n",
    "for i in range(0,input1):\n",
    "    ele=int(input())\n",
    "    input2.append(ele)\n",
    "print(input2)\n",
    "print(count(input1,input2)) "
   ]
  },
  {
   "cell_type": "code",
   "execution_count": null,
   "metadata": {},
   "outputs": [],
   "source": []
  }
 ],
 "metadata": {
  "kernelspec": {
   "display_name": "Python 3",
   "language": "python",
   "name": "python3"
  },
  "language_info": {
   "codemirror_mode": {
    "name": "ipython",
    "version": 3
   },
   "file_extension": ".py",
   "mimetype": "text/x-python",
   "name": "python",
   "nbconvert_exporter": "python",
   "pygments_lexer": "ipython3",
   "version": "3.6.8"
  }
 },
 "nbformat": 4,
 "nbformat_minor": 2
}
